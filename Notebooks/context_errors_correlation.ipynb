{
 "cells": [
  {
   "cell_type": "code",
   "execution_count": 459,
   "id": "cdb0afc1-8dd0-4411-a7f3-b83e20e061cd",
   "metadata": {},
   "outputs": [],
   "source": [
    "import pandas as pd\n",
    "import json\n",
    "import numpy as np\n",
    "from scipy import stats\n",
    "import warnings\n",
    "import math"
   ]
  },
  {
   "cell_type": "code",
   "execution_count": 460,
   "id": "2b4bc2b2-e099-49ec-bb9a-b22b704ce309",
   "metadata": {},
   "outputs": [],
   "source": [
    "path = \"/Users/geovern/Downloads\""
   ]
  },
  {
   "cell_type": "code",
   "execution_count": 461,
   "id": "ab78bc20-831d-412d-b929-fbc0db1fb7a5",
   "metadata": {},
   "outputs": [
    {
     "name": "stderr",
     "output_type": "stream",
     "text": [
      "/var/folders/6z/mxnyjlrx4tv5y74x80k3_cwcvylpqt/T/ipykernel_28664/3573112560.py:1: FutureWarning: The error_bad_lines argument has been deprecated and will be removed in a future version. Use on_bad_lines in the future.\n",
      "\n",
      "\n",
      "  mqm_scores = pd.read_csv(filepath_or_buffer=\"{}/mqm_ted_zhen.tsv\".format(path), header=0, sep=\"\\t\", error_bad_lines=False)\n"
     ]
    }
   ],
   "source": [
    "mqm_scores = pd.read_csv(filepath_or_buffer=\"{}/mqm_ted_zhen.tsv\".format(path), header=0, sep=\"\\t\", error_bad_lines=False)"
   ]
  },
  {
   "cell_type": "code",
   "execution_count": 462,
   "id": "4eaeec3e-d6f0-44b3-9229-73ac0050170f",
   "metadata": {},
   "outputs": [
    {
     "data": {
      "text/html": [
       "<div>\n",
       "<style scoped>\n",
       "    .dataframe tbody tr th:only-of-type {\n",
       "        vertical-align: middle;\n",
       "    }\n",
       "\n",
       "    .dataframe tbody tr th {\n",
       "        vertical-align: top;\n",
       "    }\n",
       "\n",
       "    .dataframe thead th {\n",
       "        text-align: right;\n",
       "    }\n",
       "</style>\n",
       "<table border=\"1\" class=\"dataframe\">\n",
       "  <thead>\n",
       "    <tr style=\"text-align: right;\">\n",
       "      <th></th>\n",
       "      <th>system</th>\n",
       "      <th>doc</th>\n",
       "      <th>doc_id</th>\n",
       "      <th>seg_id</th>\n",
       "      <th>rater</th>\n",
       "      <th>source</th>\n",
       "      <th>target</th>\n",
       "      <th>category</th>\n",
       "      <th>severity</th>\n",
       "    </tr>\n",
       "  </thead>\n",
       "  <tbody>\n",
       "    <tr>\n",
       "      <th>0</th>\n",
       "      <td>Borderline</td>\n",
       "      <td>talk.2</td>\n",
       "      <td>1</td>\n",
       "      <td>84</td>\n",
       "      <td>rater3</td>\n",
       "      <td>我希望大家能花点时间考虑一个非常简单的事实那就是，到目前为止， 我们对宇宙的大部分了解都来自于光。</td>\n",
       "      <td>I want you to &lt;v&gt;take a moment&lt;/v&gt; to consider...</td>\n",
       "      <td>Style/Awkward</td>\n",
       "      <td>Major</td>\n",
       "    </tr>\n",
       "    <tr>\n",
       "      <th>1</th>\n",
       "      <td>Borderline</td>\n",
       "      <td>talk.2</td>\n",
       "      <td>1</td>\n",
       "      <td>84</td>\n",
       "      <td>rater3</td>\n",
       "      <td>我希望大家能花点时间考虑一个非常简单的事实那就是，到目前为止， 我们对宇宙的大部分了解都来自于光。</td>\n",
       "      <td>I want you to take a moment to consider &lt;v&gt;the...</td>\n",
       "      <td>Fluency/Grammar</td>\n",
       "      <td>Major</td>\n",
       "    </tr>\n",
       "    <tr>\n",
       "      <th>2</th>\n",
       "      <td>Borderline</td>\n",
       "      <td>talk.2</td>\n",
       "      <td>1</td>\n",
       "      <td>84</td>\n",
       "      <td>rater3</td>\n",
       "      <td>我希望大家能花点时间考虑一个非常简单的事实那就是，到目前为止， 我们对宇宙的大部分了解都来自于光。</td>\n",
       "      <td>I want you to take a moment to consider the ve...</td>\n",
       "      <td>Style/Awkward</td>\n",
       "      <td>Major</td>\n",
       "    </tr>\n",
       "    <tr>\n",
       "      <th>3</th>\n",
       "      <td>Borderline</td>\n",
       "      <td>talk.2</td>\n",
       "      <td>1</td>\n",
       "      <td>84</td>\n",
       "      <td>rater3</td>\n",
       "      <td>我希望大家能花点时间考虑一个非常简单的事实那就是，到目前为止， 我们对宇宙的大部分了解都来自于光。</td>\n",
       "      <td>I want you to take a moment to consider the ve...</td>\n",
       "      <td>Accuracy/Mistranslation</td>\n",
       "      <td>Major</td>\n",
       "    </tr>\n",
       "    <tr>\n",
       "      <th>4</th>\n",
       "      <td>DIDI-NLP</td>\n",
       "      <td>talk.2</td>\n",
       "      <td>1</td>\n",
       "      <td>84</td>\n",
       "      <td>rater7</td>\n",
       "      <td>我希望大家能花点时间考虑一个非常简单的事实那就是，到目前为止， 我们对宇宙的大部分了解都来自于光。</td>\n",
       "      <td>I hope you can take some time to consider the ...</td>\n",
       "      <td>No-error</td>\n",
       "      <td>No-error</td>\n",
       "    </tr>\n",
       "    <tr>\n",
       "      <th>...</th>\n",
       "      <td>...</td>\n",
       "      <td>...</td>\n",
       "      <td>...</td>\n",
       "      <td>...</td>\n",
       "      <td>...</td>\n",
       "      <td>...</td>\n",
       "      <td>...</td>\n",
       "      <td>...</td>\n",
       "      <td>...</td>\n",
       "    </tr>\n",
       "    <tr>\n",
       "      <th>9910</th>\n",
       "      <td>metricsystem3</td>\n",
       "      <td>talk.9</td>\n",
       "      <td>159</td>\n",
       "      <td>843</td>\n",
       "      <td>rater5</td>\n",
       "      <td>（掌声）</td>\n",
       "      <td>(Applause)</td>\n",
       "      <td>No-error</td>\n",
       "      <td>No-error</td>\n",
       "    </tr>\n",
       "    <tr>\n",
       "      <th>9911</th>\n",
       "      <td>metricsystem4</td>\n",
       "      <td>talk.9</td>\n",
       "      <td>159</td>\n",
       "      <td>843</td>\n",
       "      <td>rater7</td>\n",
       "      <td>（掌声）</td>\n",
       "      <td>(applause)</td>\n",
       "      <td>No-error</td>\n",
       "      <td>No-error</td>\n",
       "    </tr>\n",
       "    <tr>\n",
       "      <th>9912</th>\n",
       "      <td>metricsystem5</td>\n",
       "      <td>talk.9</td>\n",
       "      <td>159</td>\n",
       "      <td>843</td>\n",
       "      <td>rater2</td>\n",
       "      <td>（掌声）</td>\n",
       "      <td>(&lt;v&gt;Applause&lt;/v&gt;)</td>\n",
       "      <td>Fluency/Grammar</td>\n",
       "      <td>Minor</td>\n",
       "    </tr>\n",
       "    <tr>\n",
       "      <th>9913</th>\n",
       "      <td>ref</td>\n",
       "      <td>talk.9</td>\n",
       "      <td>159</td>\n",
       "      <td>843</td>\n",
       "      <td>rater2</td>\n",
       "      <td>（掌声）</td>\n",
       "      <td>(&lt;v&gt;Applause&lt;/v&gt;)</td>\n",
       "      <td>Fluency/Grammar</td>\n",
       "      <td>Minor</td>\n",
       "    </tr>\n",
       "    <tr>\n",
       "      <th>9914</th>\n",
       "      <td>refB</td>\n",
       "      <td>talk.9</td>\n",
       "      <td>159</td>\n",
       "      <td>843</td>\n",
       "      <td>rater7</td>\n",
       "      <td>（掌声）</td>\n",
       "      <td>(Applause)</td>\n",
       "      <td>No-error</td>\n",
       "      <td>No-error</td>\n",
       "    </tr>\n",
       "  </tbody>\n",
       "</table>\n",
       "<p>9915 rows × 9 columns</p>\n",
       "</div>"
      ],
      "text/plain": [
       "             system     doc  doc_id  seg_id   rater  \\\n",
       "0        Borderline  talk.2       1      84  rater3   \n",
       "1        Borderline  talk.2       1      84  rater3   \n",
       "2        Borderline  talk.2       1      84  rater3   \n",
       "3        Borderline  talk.2       1      84  rater3   \n",
       "4          DIDI-NLP  talk.2       1      84  rater7   \n",
       "...             ...     ...     ...     ...     ...   \n",
       "9910  metricsystem3  talk.9     159     843  rater5   \n",
       "9911  metricsystem4  talk.9     159     843  rater7   \n",
       "9912  metricsystem5  talk.9     159     843  rater2   \n",
       "9913            ref  talk.9     159     843  rater2   \n",
       "9914           refB  talk.9     159     843  rater7   \n",
       "\n",
       "                                                 source  \\\n",
       "0     我希望大家能花点时间考虑一个非常简单的事实那就是，到目前为止， 我们对宇宙的大部分了解都来自于光。   \n",
       "1     我希望大家能花点时间考虑一个非常简单的事实那就是，到目前为止， 我们对宇宙的大部分了解都来自于光。   \n",
       "2     我希望大家能花点时间考虑一个非常简单的事实那就是，到目前为止， 我们对宇宙的大部分了解都来自于光。   \n",
       "3     我希望大家能花点时间考虑一个非常简单的事实那就是，到目前为止， 我们对宇宙的大部分了解都来自于光。   \n",
       "4     我希望大家能花点时间考虑一个非常简单的事实那就是，到目前为止， 我们对宇宙的大部分了解都来自于光。   \n",
       "...                                                 ...   \n",
       "9910                                               （掌声）   \n",
       "9911                                               （掌声）   \n",
       "9912                                               （掌声）   \n",
       "9913                                               （掌声）   \n",
       "9914                                               （掌声）   \n",
       "\n",
       "                                                 target  \\\n",
       "0     I want you to <v>take a moment</v> to consider...   \n",
       "1     I want you to take a moment to consider <v>the...   \n",
       "2     I want you to take a moment to consider the ve...   \n",
       "3     I want you to take a moment to consider the ve...   \n",
       "4     I hope you can take some time to consider the ...   \n",
       "...                                                 ...   \n",
       "9910                                         (Applause)   \n",
       "9911                                         (applause)   \n",
       "9912                                  (<v>Applause</v>)   \n",
       "9913                                  (<v>Applause</v>)   \n",
       "9914                                         (Applause)   \n",
       "\n",
       "                     category  severity  \n",
       "0               Style/Awkward     Major  \n",
       "1             Fluency/Grammar     Major  \n",
       "2               Style/Awkward     Major  \n",
       "3     Accuracy/Mistranslation     Major  \n",
       "4                    No-error  No-error  \n",
       "...                       ...       ...  \n",
       "9910                 No-error  No-error  \n",
       "9911                 No-error  No-error  \n",
       "9912          Fluency/Grammar     Minor  \n",
       "9913          Fluency/Grammar     Minor  \n",
       "9914                 No-error  No-error  \n",
       "\n",
       "[9915 rows x 9 columns]"
      ]
     },
     "execution_count": 462,
     "metadata": {},
     "output_type": "execute_result"
    }
   ],
   "source": [
    "mqm_scores"
   ]
  },
  {
   "cell_type": "code",
   "execution_count": 463,
   "id": "2f4a0658-27e3-456c-8bf9-2e4ed95c0bed",
   "metadata": {
    "tags": []
   },
   "outputs": [
    {
     "name": "stdout",
     "output_type": "stream",
     "text": [
      "There are 163 contex-related errors in the dataset\n"
     ]
    }
   ],
   "source": [
    "context_errors = {}\n",
    "num_errors = 0\n",
    "for index, row in mqm_scores.iterrows():\n",
    "    if \"context\" in row[\"category\"] and \"ref\" not in row[\"system\"]:\n",
    "        system = row[\"system\"].split(\".\")[-1] if \"hyp\" in row[\"system\"] else row[\"system\"].replace(\".\", \"\")\n",
    "        ind = row[\"seg_id\"]\n",
    "        num_errors += 1\n",
    "        if system in context_errors:\n",
    "            if ind-1 not in context_errors[system]:\n",
    "                context_errors[system].append(ind - 1)\n",
    "        else:\n",
    "            context_errors[system] = [ind -1]\n",
    "print(\"There are {} contex-related errors in the dataset\".format(num_errors))"
   ]
  },
  {
   "cell_type": "code",
   "execution_count": 464,
   "id": "4dcbc233-89c8-462e-8063-d3787f397b4b",
   "metadata": {},
   "outputs": [],
   "source": [
    "context_errors = {k: sorted(v) for k,v in context_errors.items()}"
   ]
  },
  {
   "cell_type": "code",
   "execution_count": 465,
   "id": "0dfd9d9e-cc35-4224-aa90-786c77087510",
   "metadata": {},
   "outputs": [],
   "source": [
    "filepath = '/Users/geovern/Documents/'"
   ]
  },
  {
   "cell_type": "code",
   "execution_count": 466,
   "id": "ca41e5c3-c39a-497c-87cc-d31a12b6bf49",
   "metadata": {},
   "outputs": [],
   "source": [
    "campaign = \"wmt21.tedtalks\"\n",
    "lp = \"zh-en\""
   ]
  },
  {
   "cell_type": "code",
   "execution_count": 468,
   "id": "8d13176b-391a-489f-ab68-6e8ddda2e1c1",
   "metadata": {},
   "outputs": [],
   "source": [
    "with open(filepath + \"scores/\" + '{}_{}_seg-comet21-qe_scores.json'.format(campaign, lp), \"r\") as f:\n",
    "    scores = json.load(f)    \n",
    "    context_errors_scores = {}\n",
    "    for system in context_errors:\n",
    "        context_errors_scores[system] = np.array(scores[\"sys\"][system][0])[context_errors[system]]\n",
    "with open(filepath + \"scores/\" '{}_{}_seg-ctxpartcomet21-qe_scores.json'.format(campaign, lp), \"r\") as f:\n",
    "    scores_ctx = json.load(f)\n",
    "    context_errors_scores_ctx = {}\n",
    "    for system in context_errors:\n",
    "        context_errors_scores_ctx[system] = np.array(scores_ctx[\"sys\"][system][0])[context_errors[system]]"
   ]
  },
  {
   "cell_type": "code",
   "execution_count": 469,
   "id": "1e1ca344-9645-46b8-9607-8dbb914c00b7",
   "metadata": {},
   "outputs": [],
   "source": [
    "with open(filepath + \"mqm_scores/\" + '/{}_{}_mqm_scores.json'.format(campaign, lp), \"r\") as f:\n",
    "    scores_mqm = json.load(f)\n",
    "    context_errors_mqm = {}\n",
    "    for system in context_errors:\n",
    "        context_errors_mqm[system] = np.array(scores_mqm[system])[context_errors[system]]"
   ]
  },
  {
   "cell_type": "code",
   "execution_count": 470,
   "id": "65e6933a-5644-487d-85f4-72ab5e9be1a3",
   "metadata": {},
   "outputs": [],
   "source": [
    "with open(filepath + \"mqm_scores/\" + '/{}_{}_mqm_scores.json'.format(campaign, lp), \"r\") as f:\n",
    "    scores_mqm = json.load(f)"
   ]
  },
  {
   "cell_type": "code",
   "execution_count": 471,
   "id": "a46fc87a-ded3-41d6-ba52-3814a54cd2cd",
   "metadata": {},
   "outputs": [],
   "source": [
    "list_context_errors_mqm, list_context_errors_scores, list_context_errors_scores_ctx = [], [], []\n",
    "for system in context_errors_mqm:\n",
    "    list_context_errors_mqm += list(context_errors_mqm[system])\n",
    "    list_context_errors_scores += list(context_errors_scores[system])\n",
    "    list_context_errors_scores_ctx += list(context_errors_scores_ctx[system])"
   ]
  },
  {
   "cell_type": "code",
   "execution_count": 472,
   "id": "de5eb7e2-7459-4418-9276-ec86a591f99f",
   "metadata": {
    "tags": []
   },
   "outputs": [],
   "source": [
    "class CorrFunction:\n",
    "  \"\"\"Wrap any correlation from scipy.stats, with optional averaging and Nones.\n",
    "\n",
    "  This is a functor with the same interface as the scipy.stats functions:\n",
    "  call with two float vectors, returns a correlation and pvalue.\n",
    "\n",
    "  Averaging requires that you construct with num_sys > 0, indicating that input\n",
    "  vectors will contain num_sys sets of item scores grouped by system. The\n",
    "  returned correlation and pvalue are averages over per-item correlations. Short\n",
    "  per-item lists can lead to repeated scores that make correlations undefined;\n",
    "  these are discarded, and the Corr() function returns the number of items that\n",
    "  were actually used (last value of the returned triple).\n",
    "\n",
    "  Optional None-filtering checks for None entries in the first vector argument\n",
    "  only (assumed to represent gold scores), and filters both vectors in tandem\n",
    "  before computing correlations. When used with averaging, this can result in\n",
    "  empty vectors and undefined correlations that are handled as described above.\n",
    "  \"\"\"\n",
    "\n",
    "  def __init__(self, corr_fcn, num_sys=0, filter_nones=False):\n",
    "    self._corr_fcn = corr_fcn\n",
    "    self._num_sys = num_sys\n",
    "    self._filter_nones = filter_nones\n",
    "\n",
    "  def __call__(self, vect1, vect2):\n",
    "    return self.Corr(vect1, vect2)[:2]\n",
    "\n",
    "  def Corr(self, vect1, vect2):\n",
    "    \"\"\"Return correlation, pvalue, and number of items used for averaging.\"\"\"\n",
    "    # Reshape into item x system score matrices, for average over items.\n",
    "    num_sys = self._num_sys or len(vect1)\n",
    "    print(num_sys)\n",
    "    mat1 = np.asarray(vect1).reshape(num_sys, -1).transpose()\n",
    "    mat2 = np.asarray(vect2).reshape(num_sys, -1).transpose()\n",
    "    tot_corr, tot_pval, n = 0, 0, 0\n",
    "    with warnings.catch_warnings():\n",
    "      warnings.simplefilter('ignore')\n",
    "      for r1, r2 in zip(mat1, mat2):\n",
    "        if self._filter_nones:\n",
    "          filt = [(v1, v2) for v1, v2 in zip(r1, r2) if v1 is not None]\n",
    "          if not filt: continue\n",
    "          r1, r2 = zip(*filt)\n",
    "        cv, pv = self._corr_fcn(r1, r2)\n",
    "        if not math.isnan(cv):\n",
    "          tot_corr += cv\n",
    "          tot_pval += pv\n",
    "          n += 1\n",
    "    return (tot_corr / n, tot_pval / n, n) if n else (0, 0, 0)\n"
   ]
  },
  {
   "cell_type": "code",
   "execution_count": 473,
   "id": "ee6e14dc-efb5-456a-82ed-98d1b5994255",
   "metadata": {},
   "outputs": [
    {
     "name": "stdout",
     "output_type": "stream",
     "text": [
      "141\n"
     ]
    },
    {
     "data": {
      "text/plain": [
       "0.18305638195828625"
      ]
     },
     "execution_count": 473,
     "metadata": {},
     "output_type": "execute_result"
    }
   ],
   "source": [
    "none_count = list_context_errors_mqm.count(None)\n",
    "cf = CorrFunction(stats.kendalltau, 0, none_count)\n",
    "cf.Corr(list_context_errors_mqm, list_context_errors_scores)[0]"
   ]
  },
  {
   "cell_type": "code",
   "execution_count": 474,
   "id": "717cb540-9825-4a91-beae-34d1242f183e",
   "metadata": {},
   "outputs": [
    {
     "name": "stdout",
     "output_type": "stream",
     "text": [
      "141\n"
     ]
    },
    {
     "data": {
      "text/plain": [
       "0.1323659402259121"
      ]
     },
     "execution_count": 474,
     "metadata": {},
     "output_type": "execute_result"
    }
   ],
   "source": [
    "cf.Corr(list_context_errors_mqm, list_context_errors_scores_ctx)[0]"
   ]
  },
  {
   "cell_type": "code",
   "execution_count": null,
   "id": "6446ad2c-29ec-4a06-8c02-dc44f4c1524d",
   "metadata": {},
   "outputs": [],
   "source": []
  }
 ],
 "metadata": {
  "kernelspec": {
   "display_name": "Python 3 (ipykernel)",
   "language": "python",
   "name": "python3"
  },
  "language_info": {
   "codemirror_mode": {
    "name": "ipython",
    "version": 3
   },
   "file_extension": ".py",
   "mimetype": "text/x-python",
   "name": "python",
   "nbconvert_exporter": "python",
   "pygments_lexer": "ipython3",
   "version": "3.10.4"
  }
 },
 "nbformat": 4,
 "nbformat_minor": 5
}
