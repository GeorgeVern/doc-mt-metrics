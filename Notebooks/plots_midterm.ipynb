{
 "cells": [
  {
   "cell_type": "code",
   "execution_count": 1,
   "id": "53fd8a0b-ff96-451d-8dea-e79a193ac1e4",
   "metadata": {},
   "outputs": [],
   "source": [
    "import matplotlib.pyplot as plt\n",
    "import pandas as pd\n",
    "import seaborn as sns"
   ]
  },
  {
   "cell_type": "code",
   "execution_count": 2,
   "id": "e575a12d-56ea-4469-bda9-c610054106e2",
   "metadata": {},
   "outputs": [],
   "source": [
    "plt.rcParams['figure.dpi'] = 140"
   ]
  },
  {
   "cell_type": "code",
   "execution_count": 8,
   "id": "dbd18b89-08ee-4336-85b2-bf4c3ae7c333",
   "metadata": {},
   "outputs": [],
   "source": [
    "bleu_df = pd.DataFrame.from_dict({\"Model\": [\"m39v1\", \"M2M\", \" \", \"  \"], \"BLEU\": [36.8, 38.4,  0, 0]})"
   ]
  },
  {
   "cell_type": "code",
   "execution_count": 11,
   "id": "1116b620-737f-4f6e-b74c-13b1f5369402",
   "metadata": {},
   "outputs": [
    {
     "name": "stderr",
     "output_type": "stream",
     "text": [
      "/var/folders/6z/mxnyjlrx4tv5y74x80k3_cwcvylpqt/T/ipykernel_39288/2064121211.py:5: MatplotlibDeprecationWarning: savefig() got unexpected keyword argument \"bbox\" which is no longer supported as of 3.3 and will become an error in 3.6\n",
      "  plt.savefig('bleu.png', dpi=300, bbox='tight')\n"
     ]
    },
    {
     "data": {
      "image/png": "[encoded data removed]",
      "text/plain": [
       "<Figure size 432x288 with 1 Axes>"
      ]
     },
     "metadata": {
      "needs_background": "light"
     },
     "output_type": "display_data"
    }
   ],
   "source": [
    "plots = sns.barplot(x=\"Model\", y=\"BLEU\", data=bleu_df)\n",
    "plt.xlabel(\"\")\n",
    "plt.ylabel(\"BLEU\",fontsize=18)\n",
    "plt.xticks(fontsize= 12)\n",
    "plt.savefig('bleu.png', dpi=300, bbox='tight')"
   ]
  },
  {
   "cell_type": "code",
   "execution_count": 12,
   "id": "417fcdcb-e3b0-48e6-9b09-bc87eacd75a5",
   "metadata": {},
   "outputs": [],
   "source": [
    "bleu_df = pd.DataFrame.from_dict({\"Model\": [\"m39v1\", \"M2M\", \"UMT\", \" \"], \"BLEU\": [36.8, 38.4, 25.9, 0]})"
   ]
  },
  {
   "cell_type": "code",
   "execution_count": 13,
   "id": "ef898a7c-3af6-4887-af13-92007eb3b165",
   "metadata": {},
   "outputs": [
    {
     "name": "stderr",
     "output_type": "stream",
     "text": [
      "/var/folders/6z/mxnyjlrx4tv5y74x80k3_cwcvylpqt/T/ipykernel_39288/2064121211.py:5: MatplotlibDeprecationWarning: savefig() got unexpected keyword argument \"bbox\" which is no longer supported as of 3.3 and will become an error in 3.6\n",
      "  plt.savefig('bleu.png', dpi=300, bbox='tight')\n"
     ]
    },
    {
     "data": {
      "image/png": "[encoded data removed]",
      "text/plain": [
       "<Figure size 432x288 with 1 Axes>"
      ]
     },
     "metadata": {
      "needs_background": "light"
     },
     "output_type": "display_data"
    }
   ],
   "source": [
    "plots = sns.barplot(x=\"Model\", y=\"BLEU\", data=bleu_df)\n",
    "plt.xlabel(\"\")\n",
    "plt.ylabel(\"BLEU\",fontsize=18)\n",
    "plt.xticks(fontsize= 12)\n",
    "plt.savefig('bleu.png', dpi=300, bbox='tight')"
   ]
  },
  {
   "cell_type": "code",
   "execution_count": 14,
   "id": "1445d051-c1dd-45ea-9a59-a62962d82481",
   "metadata": {},
   "outputs": [],
   "source": [
    "bleu_df = pd.DataFrame.from_dict({\"Model\": [\"m39v1\", \"M2M\", \"UMT\", \"LM\"], \"BLEU\": [36.8, 38.4, 25.9, 16.1]})"
   ]
  },
  {
   "cell_type": "code",
   "execution_count": 15,
   "id": "072c928d-6d42-4537-86d0-55366634b930",
   "metadata": {},
   "outputs": [
    {
     "name": "stderr",
     "output_type": "stream",
     "text": [
      "/var/folders/6z/mxnyjlrx4tv5y74x80k3_cwcvylpqt/T/ipykernel_39288/2064121211.py:5: MatplotlibDeprecationWarning: savefig() got unexpected keyword argument \"bbox\" which is no longer supported as of 3.3 and will become an error in 3.6\n",
      "  plt.savefig('bleu.png', dpi=300, bbox='tight')\n"
     ]
    },
    {
     "data": {
      "image/png": "[encoded data removed]",
      "text/plain": [
       "<Figure size 432x288 with 1 Axes>"
      ]
     },
     "metadata": {
      "needs_background": "light"
     },
     "output_type": "display_data"
    }
   ],
   "source": [
    "plots = sns.barplot(x=\"Model\", y=\"BLEU\", data=bleu_df)\n",
    "plt.xlabel(\"\")\n",
    "plt.ylabel(\"BLEU\",fontsize=18)\n",
    "plt.xticks(fontsize= 12)\n",
    "plt.savefig('bleu.png', dpi=300, bbox='tight')"
   ]
  },
  {
   "cell_type": "code",
   "execution_count": null,
   "id": "aae26074-84cb-4c21-961d-cd3406f7afb6",
   "metadata": {},
   "outputs": [],
   "source": []
  }
 ],
 "metadata": {
  "kernelspec": {
   "display_name": "Python 3 (ipykernel)",
   "language": "python",
   "name": "python3"
  },
  "language_info": {
   "codemirror_mode": {
    "name": "ipython",
    "version": 3
   },
   "file_extension": ".py",
   "mimetype": "text/x-python",
   "name": "python",
   "nbconvert_exporter": "python",
   "pygments_lexer": "ipython3",
   "version": "3.10.4"
  }
 },
 "nbformat": 4,
 "nbformat_minor": 5
}
